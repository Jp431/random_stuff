{
 "cells": [
  {
   "cell_type": "markdown",
   "metadata": {},
   "source": [
    "# Visualizando dados de COVID-19 usando Python\n",
    "\n",
    "\n",
    "Este código tem como intuito mostrar de forma prática com utilizar python **e** *matplotlib* para visualizar os dados da pandemia, e como o brasil está se comportando nesta crise em realação aos demais.\n",
    "\n",
    "[Source](https://towardsdatascience.com/visualizing-covid-19-data-beautifully-in-python-in-5-minutes-or-less-affc361b2c6a)\n",
    "\n",
    "<font color='red'>Projeto descontinuado</font>\n",
    "\n",
    "1. [Mineração de dados](#pA00)<br>\n",
    "    1.1 [Carregando as bibliotecas necessárias](#pA)<br>\n",
    "    1.2 [Carregando os dados](#pB)<br>\n",
    "    1.3 [Selecionando os dados](#pC)<br>\n",
    "    1.4 [Criando uma coluna resumo](#pC)<br>\n",
    "2. [Preparando os dados](#main)<br>\n",
    "    2.1 [Reestrututando os nossos dados](#pA)<br>\n",
    "    2.2 [Calculando as incidências por 100.000](#pA)<br>\n",
    "3. [Criando a primeira visualização](#pA)<br>\n",
    "    3.1 [Criando as cores padrão](#pa)<br>\n",
    "    3.2 [Criando a visualização](#pa)<br>\n",
    "    3.4 [Atribuindo as cores](#pa)<br>\n",
    "    3.5 [Adicionando as legendas e textos](#pa)<br>\n",
    "3. [Criando a visualização por 100,000](#pA)<br>\n",
    "\n",
    "<hr/>\n",
    " \n",
    "    "
   ]
  },
  {
   "cell_type": "markdown",
   "metadata": {},
   "source": [
    "1. [Mineração de dados](#pA00)<br>\n",
    "\n",
    "Como fonte para os nossos dados iremos utilizar o repositório do [**Github**](https://github.com/datasets/covid-19) oferecido pela *Johns Hopkins University Center for Systems Science and Engineering* (CSSE), diferentemente do \"mundo real\" os dados providos já vem formato ideial, então só é necessário tratar a base com a adição de colunas e retirar os dados que não iremos usar. O link direto para o arquivo CSV é [este.](https://raw.githubusercontent.com/datasets/covid-19/master/data/countries-aggregated.csv)\n",
    "\n"
   ]
  },
  {
   "cell_type": "markdown",
   "metadata": {},
   "source": [
    "1.1 [Carregando as bibliotecas necessárias](#pA)<br>\n",
    "\n",
    "Nessa sessão iremos mostrar como fazer a importação das bibliotecas essenciais para este projeto e informar qual o papel de cada uma:\n",
    "- **pandas** — É uma biblioteca de Python usada para analisar e manipular dados.\n",
    "- **matplotlib.pyplot** —  Parte da biblioteca (módulo) *matplotlib* para mostrar os gráficos neste projeto.\n",
    "    - **matplotlib.ticker** — Também parte do (módulo) *matplotlib*\n",
    "    - **matplotlib.dates** —  Módulo usado para trabalhar com datas nos gráficos.\n",
    "- **%matplolib inline** — Essa parte deve ser usada **apenas** caso você utilize Jupyter notebook."
   ]
  },
  {
   "cell_type": "code",
   "execution_count": 6,
   "metadata": {},
   "outputs": [
    {
     "output_type": "error",
     "ename": "ModuleNotFoundError",
     "evalue": "No module named 'pandas'",
     "traceback": [
      "\u001b[1;31m---------------------------------------------------------------------------\u001b[0m",
      "\u001b[1;31mModuleNotFoundError\u001b[0m                       Traceback (most recent call last)",
      "\u001b[1;32m<ipython-input-6-4af82703ca8d>\u001b[0m in \u001b[0;36m<module>\u001b[1;34m\u001b[0m\n\u001b[1;32m----> 1\u001b[1;33m \u001b[1;32mimport\u001b[0m \u001b[0mpandas\u001b[0m \u001b[1;32mas\u001b[0m \u001b[0mpd\u001b[0m\u001b[1;33m\u001b[0m\u001b[1;33m\u001b[0m\u001b[0m\n\u001b[0m\u001b[0;32m      2\u001b[0m \u001b[1;32mimport\u001b[0m \u001b[0mmatplotlib\u001b[0m\u001b[1;33m.\u001b[0m\u001b[0mpyplot\u001b[0m \u001b[1;32mas\u001b[0m \u001b[0mplt\u001b[0m\u001b[1;33m\u001b[0m\u001b[1;33m\u001b[0m\u001b[0m\n\u001b[0;32m      3\u001b[0m \u001b[1;32mimport\u001b[0m \u001b[0mmatplotlib\u001b[0m\u001b[1;33m.\u001b[0m\u001b[0mticker\u001b[0m \u001b[1;32mas\u001b[0m \u001b[0mticker\u001b[0m\u001b[1;33m\u001b[0m\u001b[1;33m\u001b[0m\u001b[0m\n\u001b[0;32m      4\u001b[0m \u001b[1;32mfrom\u001b[0m \u001b[0mmatplotlib\u001b[0m\u001b[1;33m.\u001b[0m\u001b[0mdates\u001b[0m \u001b[1;32mimport\u001b[0m \u001b[0mDateFormatter\u001b[0m\u001b[1;33m\u001b[0m\u001b[1;33m\u001b[0m\u001b[0m\n\u001b[0;32m      5\u001b[0m \u001b[1;33m\u001b[0m\u001b[0m\n",
      "\u001b[1;31mModuleNotFoundError\u001b[0m: No module named 'pandas'"
     ]
    }
   ],
   "source": [
    "import pandas as pd\n",
    "import matplotlib.pyplot as plt\n",
    "import matplotlib.ticker as ticker\n",
    "from matplotlib.dates import DateFormatter\n",
    "\n",
    "#somente se estiver utilizando um notebook Jupyter\n",
    "%matplotlib inline"
   ]
  },
  {
   "cell_type": "markdown",
   "metadata": {},
   "source": [
    "1.2 [Carregando os dados](#pB)<br>\n",
    "\n",
    "Utilizaremos **pandas** para ler os dados da _CSSE_ e também para a criação das colunas necessárias para criação dos gráficos mais a frente.\n",
    "\n",
    "Para visualizar se ocorreu tudo bem, vamos visualizar as primeiras 5 linhas."
   ]
  },
  {
   "cell_type": "code",
   "execution_count": 7,
   "metadata": {},
   "outputs": [
    {
     "output_type": "error",
     "ename": "NameError",
     "evalue": "name 'pd' is not defined",
     "traceback": [
      "\u001b[1;31m---------------------------------------------------------------------------\u001b[0m",
      "\u001b[1;31mNameError\u001b[0m                                 Traceback (most recent call last)",
      "\u001b[1;32m<ipython-input-7-938d2aa0e84f>\u001b[0m in \u001b[0;36m<module>\u001b[1;34m\u001b[0m\n\u001b[1;32m----> 1\u001b[1;33m df = pd.read_csv('https://raw.githubusercontent.com/datasets/covid-19/master/data/countries-aggregated.csv', \n\u001b[0m\u001b[0;32m      2\u001b[0m                  parse_dates=['Date'])\n\u001b[0;32m      3\u001b[0m \u001b[1;33m\u001b[0m\u001b[0m\n\u001b[0;32m      4\u001b[0m \u001b[1;31m# Mostrando os dados baixados, primeiras cinco linhas, para verificarmos se ocorreu tudo certo com o download dos dados.\u001b[0m\u001b[1;33m\u001b[0m\u001b[1;33m\u001b[0m\u001b[1;33m\u001b[0m\u001b[0m\n\u001b[0;32m      5\u001b[0m \u001b[0mdf\u001b[0m\u001b[1;33m.\u001b[0m\u001b[0mhead\u001b[0m\u001b[1;33m(\u001b[0m\u001b[1;36m5\u001b[0m\u001b[1;33m)\u001b[0m\u001b[1;33m\u001b[0m\u001b[1;33m\u001b[0m\u001b[0m\n",
      "\u001b[1;31mNameError\u001b[0m: name 'pd' is not defined"
     ]
    }
   ],
   "source": [
    "df = pd.read_csv('https://raw.githubusercontent.com/datasets/covid-19/master/data/countries-aggregated.csv', \n",
    "                 parse_dates=['Date'])\n",
    "\n",
    "# Mostrando os dados baixados, primeiras cinco linhas, para verificarmos se ocorreu tudo certo com o download dos dados.\n",
    "df.head(5)"
   ]
  },
  {
   "cell_type": "markdown",
   "metadata": {},
   "source": [
    "1.3 [Selecionando os dados](#pC)\n",
    "\n",
    "\n",
    "O *dataset* puro possui todos os países, se transforma-se o dataset em um gráfico muito poluído, por isso, iremos selecionar os países que queremos ver? Brasil, EUA, Alemanha, França e Suiça. Como o *dataset* está em inglês, iremos usar os nomes em inglês iremos utilizar os nomes Brazil, US, Germany, French and Sweden respectivamente."
   ]
  },
  {
   "cell_type": "code",
   "execution_count": 8,
   "metadata": {},
   "outputs": [],
   "source": [
    "paises = ['Brazil', 'US','Germany', 'France', 'Sweden']"
   ]
  },
  {
   "cell_type": "markdown",
   "metadata": {},
   "source": [
    "Usando a lista acima podemos usar o comando *isin* para selecionar os dados os países que criamos na lista acima."
   ]
  },
  {
   "cell_type": "code",
   "execution_count": 9,
   "metadata": {},
   "outputs": [
    {
     "output_type": "error",
     "ename": "NameError",
     "evalue": "name 'df' is not defined",
     "traceback": [
      "\u001b[1;31m---------------------------------------------------------------------------\u001b[0m",
      "\u001b[1;31mNameError\u001b[0m                                 Traceback (most recent call last)",
      "\u001b[1;32m<ipython-input-9-63d6cab77ed6>\u001b[0m in \u001b[0;36m<module>\u001b[1;34m\u001b[0m\n\u001b[1;32m----> 1\u001b[1;33m \u001b[0mdf\u001b[0m \u001b[1;33m=\u001b[0m \u001b[0mdf\u001b[0m\u001b[1;33m[\u001b[0m\u001b[0mdf\u001b[0m\u001b[1;33m[\u001b[0m\u001b[1;34m'Country'\u001b[0m\u001b[1;33m]\u001b[0m\u001b[1;33m.\u001b[0m\u001b[0misin\u001b[0m\u001b[1;33m(\u001b[0m\u001b[0mpaises\u001b[0m\u001b[1;33m)\u001b[0m\u001b[1;33m]\u001b[0m\u001b[1;33m\u001b[0m\u001b[1;33m\u001b[0m\u001b[0m\n\u001b[0m\u001b[0;32m      2\u001b[0m \u001b[1;33m\u001b[0m\u001b[0m\n\u001b[0;32m      3\u001b[0m \u001b[0mdf\u001b[0m\u001b[1;33m.\u001b[0m\u001b[0mhead\u001b[0m\u001b[1;33m(\u001b[0m\u001b[1;36m3\u001b[0m\u001b[1;33m)\u001b[0m \u001b[1;31m# como estamos usando Jupyter Notebook, não precisamos usar o comando print para mostrar a tabela\u001b[0m\u001b[1;33m\u001b[0m\u001b[1;33m\u001b[0m\u001b[0m\n",
      "\u001b[1;31mNameError\u001b[0m: name 'df' is not defined"
     ]
    }
   ],
   "source": [
    "df = df[df['Country'].isin(paises)]\n",
    "\n",
    "df.head(3) # como estamos usando Jupyter Notebook, não precisamos usar o comando print para mostrar a tabela"
   ]
  },
  {
   "cell_type": "markdown",
   "metadata": {},
   "source": [
    " 1.3 [Selecionando os dados](#pC)\n",
    " \n",
    " O último passo é criar uma coluna resumo, o intuito é agregar os números das colunas confirmado (*confirmed*), recovered (*recuperados*) e mortes (*deaths*). Para atingir este objetivo, iremos usar o comando **sum(axis=)**, este comando possui dois parametros: **axis** igual a 0 ou 1; zero é usado para somar linhas, enquanto **1** é utilizado para somar colunas."
   ]
  },
  {
   "cell_type": "code",
   "execution_count": 10,
   "metadata": {},
   "outputs": [
    {
     "output_type": "error",
     "ename": "NameError",
     "evalue": "name 'df' is not defined",
     "traceback": [
      "\u001b[1;31m---------------------------------------------------------------------------\u001b[0m",
      "\u001b[1;31mNameError\u001b[0m                                 Traceback (most recent call last)",
      "\u001b[1;32m<ipython-input-10-2d0c5b9750ae>\u001b[0m in \u001b[0;36m<module>\u001b[1;34m\u001b[0m\n\u001b[1;32m----> 1\u001b[1;33m \u001b[0mdf\u001b[0m\u001b[1;33m[\u001b[0m\u001b[1;34m'Casos'\u001b[0m\u001b[1;33m]\u001b[0m \u001b[1;33m=\u001b[0m \u001b[0mdf\u001b[0m\u001b[1;33m[\u001b[0m\u001b[1;33m[\u001b[0m\u001b[1;34m'Confirmed'\u001b[0m\u001b[1;33m,\u001b[0m \u001b[1;34m'Recovered'\u001b[0m\u001b[1;33m,\u001b[0m \u001b[1;34m'Deaths'\u001b[0m\u001b[1;33m]\u001b[0m\u001b[1;33m]\u001b[0m\u001b[1;33m.\u001b[0m\u001b[0msum\u001b[0m\u001b[1;33m(\u001b[0m\u001b[0maxis\u001b[0m\u001b[1;33m=\u001b[0m\u001b[1;36m1\u001b[0m\u001b[1;33m)\u001b[0m\u001b[1;33m\u001b[0m\u001b[1;33m\u001b[0m\u001b[0m\n\u001b[0m\u001b[0;32m      2\u001b[0m \u001b[1;33m\u001b[0m\u001b[0m\n\u001b[0;32m      3\u001b[0m \u001b[0mdf\u001b[0m\u001b[1;33m.\u001b[0m\u001b[0mtail\u001b[0m\u001b[1;33m(\u001b[0m\u001b[1;36m3\u001b[0m\u001b[1;33m)\u001b[0m \u001b[1;31m# Mostra o final do dataset, é o inverso do comando heads\u001b[0m\u001b[1;33m\u001b[0m\u001b[1;33m\u001b[0m\u001b[0m\n",
      "\u001b[1;31mNameError\u001b[0m: name 'df' is not defined"
     ]
    }
   ],
   "source": [
    "df['Casos'] = df[['Confirmed', 'Recovered', 'Deaths']].sum(axis=1)\n",
    "\n",
    "df.tail(3) # Mostra o final do dataset, é o inverso do comando heads"
   ]
  }
 ],
 "metadata": {
  "kernelspec": {
   "display_name": "Python 3.8.3 64-bit",
   "language": "python",
   "name": "python_defaultSpec_1596134429322"
  },
  "language_info": {
   "codemirror_mode": {
    "name": "ipython",
    "version": 3
   },
   "file_extension": ".py",
   "mimetype": "text/x-python",
   "name": "python",
   "nbconvert_exporter": "python",
   "pygments_lexer": "ipython3",
   "version": "3.7.6"
  }
 },
 "nbformat": 4,
 "nbformat_minor": 4
}