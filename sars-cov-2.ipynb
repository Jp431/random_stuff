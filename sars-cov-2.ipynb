{
 "cells": [
  {
   "cell_type": "markdown",
   "metadata": {},
   "source": [
    "# Visualizando dados de COVID-19 usando Python\n",
    "\n",
    "Este código tem como intuito mostrar de forma prática com utilizar python **e** *matplotlib* para visualizar os dados da pandemia, e como o brasil está se comportando nesta crise em realação aos demais.\n",
    "\n",
    "[Source](https://towardsdatascience.com/visualizing-covid-19-data-beautifully-in-python-in-5-minutes-or-less-affc361b2c6a)\n",
    "\n",
    "1. [Mineração de dados](#pA00)<br>\n",
    "    1.1 [Carregando as bibliotecas necessárias](#pA)<br>\n",
    "    1.2 [Carregando os dados](#pB)<br>\n",
    "    1.3 [Selecionando os dados](#pC)<br>\n",
    "    1.4 [Criando uma coluna resumo](#pC)<br>\n",
    "2. [Preparando os dados](#main)<br>\n",
    "    2.1 [Reestrututando os nossos dados](#pA)<br>\n",
    "    2.2 [Calculando as incidências por 100.000](#pA)<br>\n",
    "3. [Criando a primeira visualização](#pA)<br>\n",
    "    3.1 [Criando as cores padrão](#pa)<br>\n",
    "    3.2 [Criando a visualização](#pa)<br>\n",
    "    3.4 [Atribuindo as cores](#pa)<br>\n",
    "    3.5 [Adicionando as legendas e textos](#pa)<br>\n",
    "3. [Criando a visualização por 100,000](#pA)<br>\n",
    "\n",
    "<hr/>\n",
    " \n",
    "    "
   ]
  },
  {
   "cell_type": "markdown",
   "metadata": {},
   "source": [
    "1. [Mineração de dados](#pA00)<br>\n",
    "\n",
    "Como fonte para os nossos dados iremos utilizar o repositório do [**Github**](https://github.com/datasets/covid-19) oferecido pela *Johns Hopkins University Center for Systems Science and Engineering* (CSSE), diferentemente do \"mundo real\" os dados providos já vem formato ideial, então só é necessário tratar a base com a adição de colunas e retirar os dados que não iremos usar. O link direto para o arquivo CSV é [este.](https://raw.githubusercontent.com/datasets/covid-19/master/data/countries-aggregated.csv)\n",
    "\n"
   ]
  },
  {
   "cell_type": "markdown",
   "metadata": {},
   "source": [
    "1.1 [Carregando as bibliotecas necessárias](#pA)<br>\n",
    "\n",
    "Nessa sessão iremos mostrar como fazer a importação das bibliotecas essenciais para este projeto e informar qual o papel de cada uma:\n",
    "- **pandas** — É uma biblioteca de Python usada para analisar e manipular dados.\n",
    "- **matplotlib.pyplot** —  Parte da biblioteca (módulo) *matplotlib* para mostrar os gráficos neste projeto.\n",
    "    - **matplotlib.ticker** — Também parte do (módulo) *matplotlib*\n",
    "    - **matplotlib.dates** —  Módulo usado para trabalhar com datas nos gráficos.\n",
    "- **%matplolib inline** — Essa parte deve ser usada **apenas** caso você utilize Jupyter notebook."
   ]
  },
  {
   "cell_type": "code",
   "execution_count": 22,
   "metadata": {},
   "outputs": [],
   "source": [
    "import pandas as pd\n",
    "import matplotlib.pyplot as plt\n",
    "import matplotlib.ticker as ticker\n",
    "from matplotlib.dates import DateFormatter\n",
    "\n",
    "#somente se estiver utilizando um notebook Jupyter\n",
    "%matplotlib inline"
   ]
  },
  {
   "cell_type": "markdown",
   "metadata": {},
   "source": [
    "1.2 [Carregando os dados](#pB)<br>\n",
    "\n",
    "Utilizaremos **pandas** para ler os dados da _CSSE_ e também para a criação das colunas necessárias para criação dos gráficos mais a frente.\n",
    "\n",
    "Para visualizar se ocorreu tudo bem, vamos visualizar as primeiras 5 linhas."
   ]
  },
  {
   "cell_type": "code",
   "execution_count": 23,
   "metadata": {},
   "outputs": [
    {
     "data": {
      "text/html": [
       "<div>\n",
       "<style scoped>\n",
       "    .dataframe tbody tr th:only-of-type {\n",
       "        vertical-align: middle;\n",
       "    }\n",
       "\n",
       "    .dataframe tbody tr th {\n",
       "        vertical-align: top;\n",
       "    }\n",
       "\n",
       "    .dataframe thead th {\n",
       "        text-align: right;\n",
       "    }\n",
       "</style>\n",
       "<table border=\"1\" class=\"dataframe\">\n",
       "  <thead>\n",
       "    <tr style=\"text-align: right;\">\n",
       "      <th></th>\n",
       "      <th>Date</th>\n",
       "      <th>Country</th>\n",
       "      <th>Confirmed</th>\n",
       "      <th>Recovered</th>\n",
       "      <th>Deaths</th>\n",
       "    </tr>\n",
       "  </thead>\n",
       "  <tbody>\n",
       "    <tr>\n",
       "      <th>0</th>\n",
       "      <td>2020-01-22</td>\n",
       "      <td>Afghanistan</td>\n",
       "      <td>0</td>\n",
       "      <td>0</td>\n",
       "      <td>0</td>\n",
       "    </tr>\n",
       "    <tr>\n",
       "      <th>1</th>\n",
       "      <td>2020-01-22</td>\n",
       "      <td>Albania</td>\n",
       "      <td>0</td>\n",
       "      <td>0</td>\n",
       "      <td>0</td>\n",
       "    </tr>\n",
       "    <tr>\n",
       "      <th>2</th>\n",
       "      <td>2020-01-22</td>\n",
       "      <td>Algeria</td>\n",
       "      <td>0</td>\n",
       "      <td>0</td>\n",
       "      <td>0</td>\n",
       "    </tr>\n",
       "    <tr>\n",
       "      <th>3</th>\n",
       "      <td>2020-01-22</td>\n",
       "      <td>Andorra</td>\n",
       "      <td>0</td>\n",
       "      <td>0</td>\n",
       "      <td>0</td>\n",
       "    </tr>\n",
       "    <tr>\n",
       "      <th>4</th>\n",
       "      <td>2020-01-22</td>\n",
       "      <td>Angola</td>\n",
       "      <td>0</td>\n",
       "      <td>0</td>\n",
       "      <td>0</td>\n",
       "    </tr>\n",
       "  </tbody>\n",
       "</table>\n",
       "</div>"
      ],
      "text/plain": [
       "        Date      Country  Confirmed  Recovered  Deaths\n",
       "0 2020-01-22  Afghanistan          0          0       0\n",
       "1 2020-01-22      Albania          0          0       0\n",
       "2 2020-01-22      Algeria          0          0       0\n",
       "3 2020-01-22      Andorra          0          0       0\n",
       "4 2020-01-22       Angola          0          0       0"
      ]
     },
     "execution_count": 23,
     "metadata": {},
     "output_type": "execute_result"
    }
   ],
   "source": [
    "df = pd.read_csv('https://raw.githubusercontent.com/datasets/covid-19/master/data/countries-aggregated.csv', \n",
    "                 parse_dates=['Date'])\n",
    "\n",
    "# Mostrando os dados baixados, primeiras cinco linhas, para verificarmos se ocorreu tudo certo com o download dos dados.\n",
    "df.head(5)"
   ]
  },
  {
   "cell_type": "markdown",
   "metadata": {},
   "source": [
    "1.3 [Selecionando os dados](#pC)\n",
    "\n",
    "\n",
    "O *dataset* puro possui todos os países, se transforma-se o dataset em um gráfico muito poluído, por isso, iremos selecionar os países que queremos ver? Brasil, EUA, Alemanha, França e Suiça. Como o *dataset* está em inglês, iremos usar os nomes em inglês iremos utilizar os nomes Brazil, US, Germany, French and Sweden respectivamente."
   ]
  },
  {
   "cell_type": "code",
   "execution_count": 24,
   "metadata": {},
   "outputs": [],
   "source": [
    "paises = ['Brazil', 'US','Germany', 'France', 'Sweden']"
   ]
  },
  {
   "cell_type": "markdown",
   "metadata": {},
   "source": [
    "Usando a lista acima podemos usar o comando *isin* para selecionar os dados os países que criamos na lista acima."
   ]
  },
  {
   "cell_type": "code",
   "execution_count": 25,
   "metadata": {},
   "outputs": [
    {
     "data": {
      "text/html": [
       "<div>\n",
       "<style scoped>\n",
       "    .dataframe tbody tr th:only-of-type {\n",
       "        vertical-align: middle;\n",
       "    }\n",
       "\n",
       "    .dataframe tbody tr th {\n",
       "        vertical-align: top;\n",
       "    }\n",
       "\n",
       "    .dataframe thead th {\n",
       "        text-align: right;\n",
       "    }\n",
       "</style>\n",
       "<table border=\"1\" class=\"dataframe\">\n",
       "  <thead>\n",
       "    <tr style=\"text-align: right;\">\n",
       "      <th></th>\n",
       "      <th>Date</th>\n",
       "      <th>Country</th>\n",
       "      <th>Confirmed</th>\n",
       "      <th>Recovered</th>\n",
       "      <th>Deaths</th>\n",
       "    </tr>\n",
       "  </thead>\n",
       "  <tbody>\n",
       "    <tr>\n",
       "      <th>23</th>\n",
       "      <td>2020-01-22</td>\n",
       "      <td>Brazil</td>\n",
       "      <td>0</td>\n",
       "      <td>0</td>\n",
       "      <td>0</td>\n",
       "    </tr>\n",
       "    <tr>\n",
       "      <th>62</th>\n",
       "      <td>2020-01-22</td>\n",
       "      <td>France</td>\n",
       "      <td>0</td>\n",
       "      <td>0</td>\n",
       "      <td>0</td>\n",
       "    </tr>\n",
       "    <tr>\n",
       "      <th>66</th>\n",
       "      <td>2020-01-22</td>\n",
       "      <td>Germany</td>\n",
       "      <td>0</td>\n",
       "      <td>0</td>\n",
       "      <td>0</td>\n",
       "    </tr>\n",
       "  </tbody>\n",
       "</table>\n",
       "</div>"
      ],
      "text/plain": [
       "         Date  Country  Confirmed  Recovered  Deaths\n",
       "23 2020-01-22   Brazil          0          0       0\n",
       "62 2020-01-22   France          0          0       0\n",
       "66 2020-01-22  Germany          0          0       0"
      ]
     },
     "execution_count": 25,
     "metadata": {},
     "output_type": "execute_result"
    }
   ],
   "source": [
    "df = df[df['Country'].isin(paises)]\n",
    "\n",
    "df.head(3) # como estamos usando Jupyter Notebook, não precisamos usar o comando print para mostrar a tabela"
   ]
  },
  {
   "cell_type": "markdown",
   "metadata": {},
   "source": [
    " 1.3 [Selecionando os dados](#pC)\n",
    " \n",
    " O último passo é criar uma coluna resumo, o intuito é agregar os números das colunas confirmado (*confirmed*), recovered (*recuperados*) e mortes (*deaths*). Para atingir este objetivo, iremos usar o comando **sum(axis=)**, este comando possui dois parametros: **axis** igual a 0 ou 1; zero é usado para somar linhas, enquanto **1** é utilizado para somar colunas."
   ]
  },
  {
   "cell_type": "code",
   "execution_count": 26,
   "metadata": {},
   "outputs": [
    {
     "data": {
      "text/html": [
       "<div>\n",
       "<style scoped>\n",
       "    .dataframe tbody tr th:only-of-type {\n",
       "        vertical-align: middle;\n",
       "    }\n",
       "\n",
       "    .dataframe tbody tr th {\n",
       "        vertical-align: top;\n",
       "    }\n",
       "\n",
       "    .dataframe thead th {\n",
       "        text-align: right;\n",
       "    }\n",
       "</style>\n",
       "<table border=\"1\" class=\"dataframe\">\n",
       "  <thead>\n",
       "    <tr style=\"text-align: right;\">\n",
       "      <th></th>\n",
       "      <th>Date</th>\n",
       "      <th>Country</th>\n",
       "      <th>Confirmed</th>\n",
       "      <th>Recovered</th>\n",
       "      <th>Deaths</th>\n",
       "      <th>Casos</th>\n",
       "    </tr>\n",
       "  </thead>\n",
       "  <tbody>\n",
       "    <tr>\n",
       "      <th>24506</th>\n",
       "      <td>2020-05-31</td>\n",
       "      <td>Germany</td>\n",
       "      <td>183410</td>\n",
       "      <td>165352</td>\n",
       "      <td>8540</td>\n",
       "      <td>357302</td>\n",
       "    </tr>\n",
       "    <tr>\n",
       "      <th>24602</th>\n",
       "      <td>2020-05-31</td>\n",
       "      <td>Sweden</td>\n",
       "      <td>37542</td>\n",
       "      <td>4971</td>\n",
       "      <td>4395</td>\n",
       "      <td>46908</td>\n",
       "    </tr>\n",
       "    <tr>\n",
       "      <th>24614</th>\n",
       "      <td>2020-05-31</td>\n",
       "      <td>US</td>\n",
       "      <td>1790172</td>\n",
       "      <td>444758</td>\n",
       "      <td>104381</td>\n",
       "      <td>2339311</td>\n",
       "    </tr>\n",
       "  </tbody>\n",
       "</table>\n",
       "</div>"
      ],
      "text/plain": [
       "            Date  Country  Confirmed  Recovered  Deaths    Casos\n",
       "24506 2020-05-31  Germany     183410     165352    8540   357302\n",
       "24602 2020-05-31   Sweden      37542       4971    4395    46908\n",
       "24614 2020-05-31       US    1790172     444758  104381  2339311"
      ]
     },
     "execution_count": 26,
     "metadata": {},
     "output_type": "execute_result"
    }
   ],
   "source": [
    "df['Casos'] = df[['Confirmed', 'Recovered', 'Deaths']].sum(axis=1)\n",
    "\n",
    "df.tail(3) # Mostra o final do dataset, é o inverso do comando heads"
   ]
  }
 ],
 "metadata": {
  "kernelspec": {
   "display_name": "Python 3",
   "language": "python",
   "name": "python3"
  },
  "language_info": {
   "codemirror_mode": {
    "name": "ipython",
    "version": 3
   },
   "file_extension": ".py",
   "mimetype": "text/x-python",
   "name": "python",
   "nbconvert_exporter": "python",
   "pygments_lexer": "ipython3",
   "version": "3.7.6"
  }
 },
 "nbformat": 4,
 "nbformat_minor": 4
}
